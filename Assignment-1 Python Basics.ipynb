{
 "cells": [
  {
   "cell_type": "code",
   "execution_count": 1,
   "id": "353c9a98",
   "metadata": {},
   "outputs": [],
   "source": [
    "a=\"my name is Sambit Kumar Jena\",[26,\"Dog\",True],3.141,(999,\"Bunty\")"
   ]
  },
  {
   "cell_type": "code",
   "execution_count": 2,
   "id": "7d00e04d",
   "metadata": {},
   "outputs": [
    {
     "data": {
      "text/plain": [
       "('my name is Sambit Kumar Jena', [26, 'Dog', True], 3.141, (999, 'Bunty'))"
      ]
     },
     "execution_count": 2,
     "metadata": {},
     "output_type": "execute_result"
    }
   ],
   "source": [
    "a"
   ]
  },
  {
   "cell_type": "code",
   "execution_count": 3,
   "id": "76781f8e",
   "metadata": {},
   "outputs": [],
   "source": [
    "var1=''"
   ]
  },
  {
   "cell_type": "code",
   "execution_count": 4,
   "id": "66e3d2d4",
   "metadata": {},
   "outputs": [
    {
     "data": {
      "text/plain": [
       "str"
      ]
     },
     "execution_count": 4,
     "metadata": {},
     "output_type": "execute_result"
    }
   ],
   "source": [
    "type(var1)"
   ]
  },
  {
   "cell_type": "code",
   "execution_count": 6,
   "id": "df92f95c",
   "metadata": {},
   "outputs": [],
   "source": [
    "var2='[DS,ML,PYTHON]'"
   ]
  },
  {
   "cell_type": "code",
   "execution_count": 7,
   "id": "1b68b0f9",
   "metadata": {},
   "outputs": [
    {
     "data": {
      "text/plain": [
       "str"
      ]
     },
     "execution_count": 7,
     "metadata": {},
     "output_type": "execute_result"
    }
   ],
   "source": [
    "type(var2)"
   ]
  },
  {
   "cell_type": "code",
   "execution_count": 8,
   "id": "ba914d9a",
   "metadata": {},
   "outputs": [],
   "source": [
    "var3=['DS','ML','PYTHON']"
   ]
  },
  {
   "cell_type": "code",
   "execution_count": 9,
   "id": "d6080838",
   "metadata": {},
   "outputs": [
    {
     "data": {
      "text/plain": [
       "list"
      ]
     },
     "execution_count": 9,
     "metadata": {},
     "output_type": "execute_result"
    }
   ],
   "source": [
    "type(var3)"
   ]
  },
  {
   "cell_type": "code",
   "execution_count": 10,
   "id": "5e6015ca",
   "metadata": {},
   "outputs": [],
   "source": [
    "var4=1"
   ]
  },
  {
   "cell_type": "code",
   "execution_count": 11,
   "id": "67fa9f62",
   "metadata": {},
   "outputs": [
    {
     "data": {
      "text/plain": [
       "int"
      ]
     },
     "execution_count": 11,
     "metadata": {},
     "output_type": "execute_result"
    }
   ],
   "source": [
    "type(var4)"
   ]
  },
  {
   "cell_type": "code",
   "execution_count": 12,
   "id": "c4ece93a",
   "metadata": {},
   "outputs": [
    {
     "data": {
      "text/plain": [
       "3.0"
      ]
     },
     "execution_count": 12,
     "metadata": {},
     "output_type": "execute_result"
    }
   ],
   "source": [
    "# / (Division) operator\n",
    "x=27\n",
    "y=9\n",
    "x/y"
   ]
  },
  {
   "cell_type": "code",
   "execution_count": 13,
   "id": "7c98cb4e",
   "metadata": {},
   "outputs": [
    {
     "data": {
      "text/plain": [
       "7"
      ]
     },
     "execution_count": 13,
     "metadata": {},
     "output_type": "execute_result"
    }
   ],
   "source": [
    "# % (Modulus) operator\n",
    "a=30\n",
    "b=23\n",
    "a%b"
   ]
  },
  {
   "cell_type": "code",
   "execution_count": 14,
   "id": "1d00f31f",
   "metadata": {},
   "outputs": [
    {
     "data": {
      "text/plain": [
       "3"
      ]
     },
     "execution_count": 14,
     "metadata": {},
     "output_type": "execute_result"
    }
   ],
   "source": [
    "# // (Floor division) operator\n",
    "x=44\n",
    "y=13\n",
    "x//y"
   ]
  },
  {
   "cell_type": "code",
   "execution_count": 15,
   "id": "e58511d7",
   "metadata": {},
   "outputs": [
    {
     "name": "stdout",
     "output_type": "stream",
     "text": [
      "mango\n",
      "<class 'str'>\n",
      "2023\n",
      "<class 'int'>\n",
      "lion\n",
      "<class 'str'>\n",
      "India\n",
      "<class 'str'>\n",
      "Sambit\n",
      "<class 'str'>\n",
      "True\n",
      "<class 'bool'>\n",
      "3.144\n",
      "<class 'float'>\n",
      "26-sept-1999\n",
      "<class 'str'>\n",
      "Utkal University\n",
      "<class 'str'>\n",
      "(-9+3j)\n",
      "<class 'complex'>\n"
     ]
    }
   ],
   "source": [
    "# creation list and use of \"for\" loop\n",
    "l=[\"mango\",2023,\"lion\",\"India\",\"Sambit\",True,3.144,\"26-sept-1999\",\"Utkal University\",3j-9]\n",
    "for i in l:\n",
    "    print(i)\n",
    "    print(type(i))"
   ]
  },
  {
   "cell_type": "code",
   "execution_count": 30,
   "id": "f5ae1210",
   "metadata": {},
   "outputs": [
    {
     "name": "stdout",
     "output_type": "stream",
     "text": [
      "enter A:120\n",
      "enter B:3\n",
      "the number A is purely divisible by number B  1  times it can be divisible\n"
     ]
    }
   ],
   "source": [
    "#Use of while loops\n",
    "A=int(input(\"enter A:\"))\n",
    "B=int(input(\"enter B:\"))\n",
    "i=0\n",
    "while A%B==0:\n",
    "    A=A/B\n",
    "    i+=1\n",
    "    print(\"the number A is purely divisible by number B \",i,\" times it can be divisible\")\n"
   ]
  },
  {
   "cell_type": "code",
   "execution_count": 33,
   "id": "7215153c",
   "metadata": {},
   "outputs": [
    {
     "name": "stdout",
     "output_type": "stream",
     "text": [
      "12  is divisible by 3\n",
      "11  is not divisible by 3\n",
      "17  is not divisible by 3\n",
      "13  is not divisible by 3\n",
      "122  is not divisible by 3\n",
      "143  is not divisible by 3\n",
      "181  is not divisible by 3\n",
      "81  is divisible by 3\n",
      "91  is not divisible by 3\n",
      "1222  is not divisible by 3\n",
      "18  is divisible by 3\n",
      "123  is divisible by 3\n",
      "13  is not divisible by 3\n",
      "141  is divisible by 3\n",
      "15  is divisible by 3\n",
      "16  is not divisible by 3\n",
      "17  is not divisible by 3\n",
      "10  is not divisible by 3\n",
      "3  is divisible by 3\n",
      "45  is divisible by 3\n",
      "57  is divisible by 3\n",
      "88  is not divisible by 3\n",
      "90  is divisible by 3\n",
      "1  is not divisible by 3\n",
      "900  is divisible by 3\n"
     ]
    }
   ],
   "source": [
    "#Use of if.....else condition and for loop\n",
    "l1=[12,11,17,13,122,143,181,81,91,1222,18,123,13,141,15,16,17,10,3,45,57,88,90,1,900]\n",
    "\n",
    "for i in l1:\n",
    "    if (i%3==0):\n",
    "        print(i,\" is divisible by 3\")\n",
    "    else:\n",
    "        print(i,\" is not divisible by 3\")\n"
   ]
  },
  {
   "cell_type": "code",
   "execution_count": 38,
   "id": "fb70f11b",
   "metadata": {},
   "outputs": [
    {
     "data": {
      "text/plain": [
       "'sambit kumar jena'"
      ]
     },
     "execution_count": 38,
     "metadata": {},
     "output_type": "execute_result"
    }
   ],
   "source": [
    "#Immutable data type - The data types whose values can not be modified once they are created.\n",
    "#example - strings and tuples\n",
    "str1= \"sambit kumar jena\"\n",
    "str1"
   ]
  },
  {
   "cell_type": "code",
   "execution_count": 39,
   "id": "4d9fa691",
   "metadata": {},
   "outputs": [
    {
     "data": {
      "text/plain": [
       "(13, 'sambit', True, 3.11)"
      ]
     },
     "execution_count": 39,
     "metadata": {},
     "output_type": "execute_result"
    }
   ],
   "source": [
    "tuple1=(13,\"sambit\",True,3.11)\n",
    "tuple1"
   ]
  },
  {
   "cell_type": "code",
   "execution_count": 40,
   "id": "fc4b577e",
   "metadata": {},
   "outputs": [
    {
     "data": {
      "text/plain": [
       "[' hello guys', 'sambit', 22, (19.9+20j)]"
      ]
     },
     "execution_count": 40,
     "metadata": {},
     "output_type": "execute_result"
    }
   ],
   "source": [
    "#Mutable data type - The data types whose values can be modified once they are created.\n",
    "#example - list\n",
    "list1=[\" hello guys\",\"sambit\",22,19.90+20j]\n",
    "list1"
   ]
  },
  {
   "cell_type": "code",
   "execution_count": 41,
   "id": "8b4d502c",
   "metadata": {},
   "outputs": [
    {
     "data": {
      "text/plain": [
       "[' hello guys', 'sambit', 'PW skills', (19.9+20j)]"
      ]
     },
     "execution_count": 41,
     "metadata": {},
     "output_type": "execute_result"
    }
   ],
   "source": [
    "list1[2]=\"PW skills\"\n",
    "list1"
   ]
  },
  {
   "cell_type": "code",
   "execution_count": null,
   "id": "199a6c3a",
   "metadata": {},
   "outputs": [],
   "source": []
  }
 ],
 "metadata": {
  "kernelspec": {
   "display_name": "Python 3",
   "language": "python",
   "name": "python3"
  },
  "language_info": {
   "codemirror_mode": {
    "name": "ipython",
    "version": 3
   },
   "file_extension": ".py",
   "mimetype": "text/x-python",
   "name": "python",
   "nbconvert_exporter": "python",
   "pygments_lexer": "ipython3",
   "version": "3.8.8"
  }
 },
 "nbformat": 4,
 "nbformat_minor": 5
}
